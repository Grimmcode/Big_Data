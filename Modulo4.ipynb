{
 "cells": [
  {
   "cell_type": "markdown",
   "id": "8b67d19f",
   "metadata": {},
   "source": [
    "# Trabajo modulo 4 Big data "
   ]
  },
  {
   "cell_type": "markdown",
   "id": "ddb8b377",
   "metadata": {},
   "source": [
    "En este trabajo voy a usar un dataset de tumores cerebrales, extraído de kaggle.\n",
    "Sobre dicho dataset voy a realizar una clasificación."
   ]
  },
  {
   "cell_type": "code",
   "execution_count": 3,
   "id": "379dd1ae",
   "metadata": {},
   "outputs": [
    {
     "ename": "ModuleNotFoundError",
     "evalue": "No module named 'matplotlib'",
     "output_type": "error",
     "traceback": [
      "\u001b[1;31m---------------------------------------------------------------------------\u001b[0m",
      "\u001b[1;31mModuleNotFoundError\u001b[0m                       Traceback (most recent call last)",
      "\u001b[1;32m~\\AppData\\Local\\Temp/ipykernel_13928/3707794143.py\u001b[0m in \u001b[0;36m<module>\u001b[1;34m\u001b[0m\n\u001b[0;32m      1\u001b[0m \u001b[1;32mimport\u001b[0m \u001b[0mnumpy\u001b[0m \u001b[1;32mas\u001b[0m \u001b[0mnp\u001b[0m\u001b[1;33m\u001b[0m\u001b[1;33m\u001b[0m\u001b[0m\n\u001b[1;32m----> 2\u001b[1;33m \u001b[1;32mimport\u001b[0m \u001b[0mmatplotlib\u001b[0m\u001b[1;33m.\u001b[0m\u001b[0mpyplot\u001b[0m \u001b[1;32mas\u001b[0m \u001b[0mplt\u001b[0m\u001b[1;33m\u001b[0m\u001b[1;33m\u001b[0m\u001b[0m\n\u001b[0m\u001b[0;32m      3\u001b[0m \u001b[1;32mimport\u001b[0m \u001b[0mpandas\u001b[0m \u001b[1;32mas\u001b[0m \u001b[0mpd\u001b[0m\u001b[1;33m\u001b[0m\u001b[1;33m\u001b[0m\u001b[0m\n\u001b[0;32m      4\u001b[0m \u001b[1;32mimport\u001b[0m \u001b[0mseaborn\u001b[0m \u001b[1;32mas\u001b[0m \u001b[0msns\u001b[0m\u001b[1;33m\u001b[0m\u001b[1;33m\u001b[0m\u001b[0m\n\u001b[0;32m      5\u001b[0m \u001b[1;32mfrom\u001b[0m \u001b[0msklearn\u001b[0m\u001b[1;33m.\u001b[0m\u001b[0mmetrics\u001b[0m \u001b[1;32mimport\u001b[0m \u001b[0maccuracy_score\u001b[0m\u001b[1;33m,\u001b[0m \u001b[0mprecision_score\u001b[0m\u001b[1;33m,\u001b[0m \u001b[0mrecall_score\u001b[0m\u001b[1;33m,\u001b[0m \u001b[0mf1_score\u001b[0m\u001b[1;33m,\u001b[0m \u001b[0mroc_auc_score\u001b[0m\u001b[1;33m\u001b[0m\u001b[1;33m\u001b[0m\u001b[0m\n",
      "\u001b[1;31mModuleNotFoundError\u001b[0m: No module named 'matplotlib'"
     ]
    }
   ],
   "source": [
    "import numpy as np\n",
    "import matplotlib.pyplot as plt\n",
    "import pandas as pd\n",
    "import seaborn as sns\n",
    "from sklearn.metrics import accuracy_score, precision_score, recall_score, f1_score, roc_auc_score \n",
    "from sklearn.metrics import r2_score, mean_squared_error, confusion_matrix, roc_curve, classification_report\n",
    "from sklearn.model_selection import train_test_split, cross_val_score, GridSearchCV\n",
    "from sklearn.preprocessing import LabelEncoder\n",
    "from sklearn.linear_model import LogisticRegression\n",
    "from sklearn.tree import DecisionTreeClassifier\n",
    "from sklearn.ensemble import RandomForestClassifier,AdaBoostClassifier,BaggingClassifier,GradientBoostingClassifier\n",
    "from sklearn.neighbors import KNeighborsClassifier\n",
    "from sklearn.svm import SVC\n",
    "from collections import Counter\n",
    "from sklearn.metrics import r2_score\n",
    "from sklearn import preprocessing\n",
    "from sklearn.preprocessing import StandardScaler\n",
    "from sklearn.naive_bayes import GaussianNB\n",
    "from sklearn import tree\n"
   ]
  },
  {
   "cell_type": "code",
   "execution_count": 2,
   "id": "600bd6de",
   "metadata": {},
   "outputs": [
    {
     "ename": "NameError",
     "evalue": "name 'pd' is not defined",
     "output_type": "error",
     "traceback": [
      "\u001b[1;31m---------------------------------------------------------------------------\u001b[0m",
      "\u001b[1;31mNameError\u001b[0m                                 Traceback (most recent call last)",
      "\u001b[1;32m~\\AppData\\Local\\Temp/ipykernel_13928/1416813395.py\u001b[0m in \u001b[0;36m<module>\u001b[1;34m\u001b[0m\n\u001b[1;32m----> 1\u001b[1;33m \u001b[0mdat\u001b[0m \u001b[1;33m=\u001b[0m \u001b[0mpd\u001b[0m\u001b[1;33m.\u001b[0m\u001b[0mread_csv\u001b[0m\u001b[1;33m(\u001b[0m\u001b[1;34m'data.csv'\u001b[0m\u001b[1;33m)\u001b[0m\u001b[1;33m\u001b[0m\u001b[1;33m\u001b[0m\u001b[0m\n\u001b[0m\u001b[0;32m      2\u001b[0m \u001b[0mdat\u001b[0m\u001b[1;33m\u001b[0m\u001b[1;33m\u001b[0m\u001b[0m\n",
      "\u001b[1;31mNameError\u001b[0m: name 'pd' is not defined"
     ]
    }
   ],
   "source": [
    "dat = pd.read_csv('data.csv')\n",
    "dat"
   ]
  },
  {
   "cell_type": "markdown",
   "id": "7749863b",
   "metadata": {},
   "source": [
    "Comprobar el tipo de cada dato para ver si debemos modificar alguno para hacer las operaciones que vamos a realizar. "
   ]
  },
  {
   "cell_type": "code",
   "execution_count": 3,
   "id": "f9fc7a26",
   "metadata": {},
   "outputs": [
    {
     "data": {
      "text/plain": [
       "Unnamed: 0     int64\n",
       "X53416         int64\n",
       "M83670         int64\n",
       "X90908         int64\n",
       "M97496         int64\n",
       "               ...  \n",
       "M13699.1       int64\n",
       "X54489         int64\n",
       "T55008         int64\n",
       "M10065.2       int64\n",
       "y             object\n",
       "Length: 7466, dtype: object"
      ]
     },
     "execution_count": 3,
     "metadata": {},
     "output_type": "execute_result"
    }
   ],
   "source": [
    "dat.dtypes"
   ]
  },
  {
   "cell_type": "code",
   "execution_count": 4,
   "id": "75c4b965",
   "metadata": {},
   "outputs": [
    {
     "data": {
      "text/html": [
       "<div>\n",
       "<style scoped>\n",
       "    .dataframe tbody tr th:only-of-type {\n",
       "        vertical-align: middle;\n",
       "    }\n",
       "\n",
       "    .dataframe tbody tr th {\n",
       "        vertical-align: top;\n",
       "    }\n",
       "\n",
       "    .dataframe thead th {\n",
       "        text-align: right;\n",
       "    }\n",
       "</style>\n",
       "<table border=\"1\" class=\"dataframe\">\n",
       "  <thead>\n",
       "    <tr style=\"text-align: right;\">\n",
       "      <th></th>\n",
       "      <th>Unnamed: 0</th>\n",
       "      <th>X53416</th>\n",
       "      <th>M83670</th>\n",
       "      <th>X90908</th>\n",
       "      <th>M97496</th>\n",
       "      <th>X90908.1</th>\n",
       "      <th>U37019</th>\n",
       "      <th>R48602</th>\n",
       "      <th>T96548</th>\n",
       "      <th>X64559</th>\n",
       "      <th>...</th>\n",
       "      <th>H87456</th>\n",
       "      <th>R64130</th>\n",
       "      <th>H11125.1</th>\n",
       "      <th>U22055</th>\n",
       "      <th>L22524</th>\n",
       "      <th>M13699.1</th>\n",
       "      <th>X54489</th>\n",
       "      <th>T55008</th>\n",
       "      <th>M10065.2</th>\n",
       "      <th>y</th>\n",
       "    </tr>\n",
       "  </thead>\n",
       "  <tbody>\n",
       "    <tr>\n",
       "      <th>0</th>\n",
       "      <td>0</td>\n",
       "      <td>70</td>\n",
       "      <td>-81</td>\n",
       "      <td>25</td>\n",
       "      <td>10</td>\n",
       "      <td>22</td>\n",
       "      <td>113</td>\n",
       "      <td>36</td>\n",
       "      <td>163</td>\n",
       "      <td>9</td>\n",
       "      <td>...</td>\n",
       "      <td>75</td>\n",
       "      <td>5</td>\n",
       "      <td>68</td>\n",
       "      <td>138</td>\n",
       "      <td>53</td>\n",
       "      <td>-4</td>\n",
       "      <td>123</td>\n",
       "      <td>2</td>\n",
       "      <td>19</td>\n",
       "      <td>tumor</td>\n",
       "    </tr>\n",
       "    <tr>\n",
       "      <th>1</th>\n",
       "      <td>1</td>\n",
       "      <td>108</td>\n",
       "      <td>-30</td>\n",
       "      <td>-7</td>\n",
       "      <td>60</td>\n",
       "      <td>0</td>\n",
       "      <td>24</td>\n",
       "      <td>8</td>\n",
       "      <td>113</td>\n",
       "      <td>-3</td>\n",
       "      <td>...</td>\n",
       "      <td>186</td>\n",
       "      <td>6</td>\n",
       "      <td>60</td>\n",
       "      <td>93</td>\n",
       "      <td>140</td>\n",
       "      <td>-3</td>\n",
       "      <td>271</td>\n",
       "      <td>-1</td>\n",
       "      <td>-51</td>\n",
       "      <td>tumor</td>\n",
       "    </tr>\n",
       "    <tr>\n",
       "      <th>2</th>\n",
       "      <td>2</td>\n",
       "      <td>75</td>\n",
       "      <td>-1</td>\n",
       "      <td>5</td>\n",
       "      <td>48</td>\n",
       "      <td>6</td>\n",
       "      <td>34</td>\n",
       "      <td>27</td>\n",
       "      <td>35</td>\n",
       "      <td>-1</td>\n",
       "      <td>...</td>\n",
       "      <td>186</td>\n",
       "      <td>225</td>\n",
       "      <td>94</td>\n",
       "      <td>62</td>\n",
       "      <td>39</td>\n",
       "      <td>-14</td>\n",
       "      <td>127</td>\n",
       "      <td>7</td>\n",
       "      <td>192</td>\n",
       "      <td>tumor</td>\n",
       "    </tr>\n",
       "    <tr>\n",
       "      <th>3</th>\n",
       "      <td>3</td>\n",
       "      <td>871</td>\n",
       "      <td>4</td>\n",
       "      <td>14</td>\n",
       "      <td>78</td>\n",
       "      <td>-6</td>\n",
       "      <td>85</td>\n",
       "      <td>65</td>\n",
       "      <td>227</td>\n",
       "      <td>19</td>\n",
       "      <td>...</td>\n",
       "      <td>77</td>\n",
       "      <td>6</td>\n",
       "      <td>78</td>\n",
       "      <td>30</td>\n",
       "      <td>87</td>\n",
       "      <td>-4</td>\n",
       "      <td>59</td>\n",
       "      <td>3</td>\n",
       "      <td>367</td>\n",
       "      <td>tumor</td>\n",
       "    </tr>\n",
       "    <tr>\n",
       "      <th>4</th>\n",
       "      <td>4</td>\n",
       "      <td>-92</td>\n",
       "      <td>-34</td>\n",
       "      <td>14</td>\n",
       "      <td>19</td>\n",
       "      <td>11</td>\n",
       "      <td>-6</td>\n",
       "      <td>27</td>\n",
       "      <td>-8</td>\n",
       "      <td>9</td>\n",
       "      <td>...</td>\n",
       "      <td>87</td>\n",
       "      <td>303</td>\n",
       "      <td>204</td>\n",
       "      <td>81</td>\n",
       "      <td>105</td>\n",
       "      <td>9</td>\n",
       "      <td>265</td>\n",
       "      <td>-2</td>\n",
       "      <td>126</td>\n",
       "      <td>tumor</td>\n",
       "    </tr>\n",
       "  </tbody>\n",
       "</table>\n",
       "<p>5 rows × 7466 columns</p>\n",
       "</div>"
      ],
      "text/plain": [
       "   Unnamed: 0  X53416  M83670  X90908  M97496  X90908.1  U37019  R48602  \\\n",
       "0           0      70     -81      25      10        22     113      36   \n",
       "1           1     108     -30      -7      60         0      24       8   \n",
       "2           2      75      -1       5      48         6      34      27   \n",
       "3           3     871       4      14      78        -6      85      65   \n",
       "4           4     -92     -34      14      19        11      -6      27   \n",
       "\n",
       "   T96548  X64559  ...  H87456  R64130  H11125.1  U22055  L22524  M13699.1  \\\n",
       "0     163       9  ...      75       5        68     138      53        -4   \n",
       "1     113      -3  ...     186       6        60      93     140        -3   \n",
       "2      35      -1  ...     186     225        94      62      39       -14   \n",
       "3     227      19  ...      77       6        78      30      87        -4   \n",
       "4      -8       9  ...      87     303       204      81     105         9   \n",
       "\n",
       "   X54489  T55008  M10065.2      y  \n",
       "0     123       2        19  tumor  \n",
       "1     271      -1       -51  tumor  \n",
       "2     127       7       192  tumor  \n",
       "3      59       3       367  tumor  \n",
       "4     265      -2       126  tumor  \n",
       "\n",
       "[5 rows x 7466 columns]"
      ]
     },
     "execution_count": 4,
     "metadata": {},
     "output_type": "execute_result"
    }
   ],
   "source": [
    "dat.head()"
   ]
  },
  {
   "cell_type": "markdown",
   "id": "a3aac363",
   "metadata": {},
   "source": [
    "Ver si existen valores nulos en nuestro dataset."
   ]
  },
  {
   "cell_type": "code",
   "execution_count": 5,
   "id": "6437208e",
   "metadata": {
    "scrolled": true
   },
   "outputs": [
    {
     "data": {
      "text/plain": [
       "Unnamed: 0    0\n",
       "X53416        0\n",
       "M83670        0\n",
       "X90908        0\n",
       "M97496        0\n",
       "             ..\n",
       "M13699.1      0\n",
       "X54489        0\n",
       "T55008        0\n",
       "M10065.2      0\n",
       "y             0\n",
       "Length: 7466, dtype: int64"
      ]
     },
     "execution_count": 5,
     "metadata": {},
     "output_type": "execute_result"
    }
   ],
   "source": [
    "dat.isnull().sum()"
   ]
  },
  {
   "cell_type": "code",
   "execution_count": 6,
   "id": "2d43ad15",
   "metadata": {},
   "outputs": [
    {
     "name": "stdout",
     "output_type": "stream",
     "text": [
      "<class 'pandas.core.frame.DataFrame'>\n",
      "RangeIndex: 36 entries, 0 to 35\n",
      "Columns: 7466 entries, Unnamed: 0 to y\n",
      "dtypes: int64(7465), object(1)\n",
      "memory usage: 2.1+ MB\n"
     ]
    }
   ],
   "source": [
    "dat.info()"
   ]
  },
  {
   "cell_type": "markdown",
   "id": "c5746149",
   "metadata": {},
   "source": [
    "Una vez visto que no hay valores nulos empezamos a preparar las columnas para trabajar con ellas.\n",
    "Primero eliminaremos la columna Unnamed, ya que no la vamos a necesitar."
   ]
  },
  {
   "cell_type": "code",
   "execution_count": 7,
   "id": "979947b3",
   "metadata": {},
   "outputs": [],
   "source": [
    "dat.drop(columns=['Unnamed: 0'],axis=1,inplace=True)"
   ]
  },
  {
   "cell_type": "markdown",
   "id": "b9685fcf",
   "metadata": {},
   "source": [
    "Observamos que nos queda una columna \"y\" que contiene strings, así que la vamos a tratar para convertirla en valores."
   ]
  },
  {
   "cell_type": "code",
   "execution_count": 8,
   "id": "d24a2563",
   "metadata": {},
   "outputs": [],
   "source": [
    "t= preprocessing.LabelEncoder()\n",
    "dat['y']= t.fit_transform(dat['y'])"
   ]
  },
  {
   "cell_type": "code",
   "execution_count": 9,
   "id": "ec3faad4",
   "metadata": {
    "scrolled": true
   },
   "outputs": [
    {
     "data": {
      "text/plain": [
       "0     1\n",
       "1     1\n",
       "2     1\n",
       "3     1\n",
       "4     1\n",
       "5     1\n",
       "6     1\n",
       "7     1\n",
       "8     1\n",
       "9     1\n",
       "10    1\n",
       "11    1\n",
       "12    1\n",
       "13    1\n",
       "14    1\n",
       "15    1\n",
       "16    1\n",
       "17    1\n",
       "18    0\n",
       "19    0\n",
       "20    0\n",
       "21    0\n",
       "22    0\n",
       "23    0\n",
       "24    0\n",
       "25    0\n",
       "26    0\n",
       "27    0\n",
       "28    0\n",
       "29    0\n",
       "30    0\n",
       "31    0\n",
       "32    0\n",
       "33    0\n",
       "34    0\n",
       "35    0\n",
       "Name: y, dtype: int32"
      ]
     },
     "execution_count": 9,
     "metadata": {},
     "output_type": "execute_result"
    }
   ],
   "source": [
    "dat['y']"
   ]
  },
  {
   "cell_type": "code",
   "execution_count": 10,
   "id": "5d995033",
   "metadata": {},
   "outputs": [],
   "source": [
    "y = dat[\"y\"]\n",
    "X = dat.drop([\"y\"],axis = 1)"
   ]
  },
  {
   "cell_type": "code",
   "execution_count": 11,
   "id": "2ef2d627",
   "metadata": {},
   "outputs": [],
   "source": [
    "X_train, X_test, y_train, y_test = train_test_split(X,y,test_size = 0.4)"
   ]
  },
  {
   "cell_type": "code",
   "execution_count": 12,
   "id": "59089101",
   "metadata": {},
   "outputs": [
    {
     "name": "stdout",
     "output_type": "stream",
     "text": [
      "    X53416  M83670  X90908  M97496  X90908.1  U37019  R48602  T96548  X64559  \\\n",
      "6      225     118      -5     175       -40     108      54     272      32   \n",
      "27    1412     288     -21     731         8     673     298    1033     179   \n",
      "0       70     -81      25      10        22     113      36     163       9   \n",
      "20     624     275     -15     446         0     461     226     622     119   \n",
      "26     632     185    4723    1107      3344    1114     166    2100      72   \n",
      "15    -343     -38      28      45        36      -1      37      17       2   \n",
      "1      108     -30      -7      60         0      24       8     113      -3   \n",
      "4      -92     -34      14      19        11      -6      27      -8       9   \n",
      "14    -357       6      20      68        17       4     -18       4       1   \n",
      "3      871       4      14      78        -6      85      65     227      19   \n",
      "25    -503     641      -8    2261       -27     130      25     395      63   \n",
      "31     488     564     -29    1303        -9    1236     265    2203      41   \n",
      "35     928     332       4     412         0     681     267    1132     357   \n",
      "19    1815     172      -9     700         5    1354     718    1327     161   \n",
      "9      475     -79      20      41        10      65     -13     225      17   \n",
      "29     644     625     -28    1762        -7     799     273    1599      98   \n",
      "13    -694     -45     -34      66       -11      28      19      97      12   \n",
      "2       75      -1       5      48         6      34      27      35      -1   \n",
      "32     164     330     -13     721        12     504     154    1381      78   \n",
      "11    -359     -41      -2      67        20      18      25       8      -8   \n",
      "8     -378      31     -29     105       -54      19      -4      11      16   \n",
      "\n",
      "    T55741  ...  D14657  H87456  R64130  H11125.1  U22055  L22524  M13699.1  \\\n",
      "6        3  ...      46      64      -3       142      55     202       -23   \n",
      "27     217  ...       4       9       6       101     -73       6         1   \n",
      "0       25  ...      44      75       5        68     138      53        -4   \n",
      "20      78  ...       3     -24      22        96      28       4        -1   \n",
      "26     108  ...     -11       0     -12       107     -51       1       -20   \n",
      "15      -6  ...      20     191      -2        28     130      24        -8   \n",
      "1        9  ...     110     186       6        60      93     140        -3   \n",
      "4       -5  ...     142      87     303       204      81     105         9   \n",
      "14     -14  ...     107      20      12       251      54     125         3   \n",
      "3       22  ...      54      77       6        78      30      87        -4   \n",
      "25      37  ...      -3      11       3       157     -13       4       -16   \n",
      "31      83  ...      -8      16       0       109      21       6       -15   \n",
      "35     187  ...       4       9       1        67      19      10         1   \n",
      "19     134  ...      -4      -1       1        43      16      -1        -3   \n",
      "9       10  ...      18     115      -4        95      47      41        -4   \n",
      "29     113  ...       0      28       4       119     -21       5       -12   \n",
      "13       0  ...     156      77       6       160     116      70        25   \n",
      "2        4  ...      98     186     225        94      62      39       -14   \n",
      "32     106  ...       3     -18       1     -1484      -4      -1        -1   \n",
      "11      -3  ...      14      66       6        67      59      27      1505   \n",
      "8       -9  ...      14      87      -4       110      25      18        15   \n",
      "\n",
      "    X54489  T55008  M10065.2  \n",
      "6      110       7       -14  \n",
      "27       8      -5        39  \n",
      "0      123       2        19  \n",
      "20      16       2       173  \n",
      "26       3      -4      -103  \n",
      "15     102      33       -56  \n",
      "1      271      -1       -51  \n",
      "4      265      -2       126  \n",
      "14      52      -1       -72  \n",
      "3       59       3       367  \n",
      "25       2      -6      -116  \n",
      "31      11       7      -145  \n",
      "35      32      -5        72  \n",
      "19       2      15       -26  \n",
      "9       76      11        22  \n",
      "29       8      15       -97  \n",
      "13     179      -1      -139  \n",
      "2      127       7       192  \n",
      "32       3      -5       -63  \n",
      "11      51      -9       -75  \n",
      "8       97       0       -51  \n",
      "\n",
      "[21 rows x 7464 columns]\n",
      "6     1\n",
      "27    0\n",
      "0     1\n",
      "20    0\n",
      "26    0\n",
      "15    1\n",
      "1     1\n",
      "4     1\n",
      "14    1\n",
      "3     1\n",
      "25    0\n",
      "31    0\n",
      "35    0\n",
      "19    0\n",
      "9     1\n",
      "29    0\n",
      "13    1\n",
      "2     1\n",
      "32    0\n",
      "11    1\n",
      "8     1\n",
      "Name: y, dtype: int32\n"
     ]
    }
   ],
   "source": [
    "print(X_train)\n",
    "print(y_train)"
   ]
  },
  {
   "cell_type": "markdown",
   "id": "a7ef0eb0",
   "metadata": {},
   "source": [
    "Creamos la tabla Comparación para poder comparar las métricas de rendimiento de forma más sencilla al final."
   ]
  },
  {
   "cell_type": "code",
   "execution_count": 13,
   "id": "d22a28da",
   "metadata": {},
   "outputs": [],
   "source": [
    "Comparacion = {'Modelo':[],'precisión':[],'exactitud':[],'exhaustividad':[],'F1':[]}"
   ]
  },
  {
   "cell_type": "markdown",
   "id": "1fa430ac",
   "metadata": {},
   "source": [
    "# Ahora empezaremos con las distintas tareas de clasificación, de las cuales la primera sera la Regresión logística"
   ]
  },
  {
   "cell_type": "code",
   "execution_count": 14,
   "id": "922a8ee9",
   "metadata": {},
   "outputs": [
    {
     "name": "stdout",
     "output_type": "stream",
     "text": [
      "[[-0.0816561  -0.15467887 -0.22505961 ...  0.42575807  0.42617088\n",
      "  -0.11370301]\n",
      " [ 1.80301215  0.58753023 -0.24095285 ... -0.85330755 -0.85234177\n",
      "   0.31383566]\n",
      " [-0.32775853 -1.02350011 -0.19525979 ...  0.58877624 -0.10654272\n",
      "   0.15250031]\n",
      " ...\n",
      " [-0.17850932  0.77089954 -0.23300623 ... -0.91600685 -0.85234177\n",
      "  -0.5089746 ]\n",
      " [-1.00890654 -0.84886268 -0.22207963 ... -0.31409361 -1.27851265\n",
      "  -0.60577581]\n",
      " [-1.03907393 -0.53451529 -0.24889947 ...  0.2627399  -0.31962816\n",
      "  -0.41217339]]\n",
      "[[ 1.27428888e+00  1.35156901e+00 -2.33999556e-01 ... -1.01632572e+00\n",
      "   2.34393986e+00 -6.86443480e-01]\n",
      " [-3.30934046e-01  2.46488266e+00 -2.69759342e-01 ... -6.90289386e-01\n",
      "   2.02431169e+00 -1.72705646e+00]\n",
      " [-7.02469322e-01 -7.70275830e-01 -2.00226424e-01 ...  1.37341314e-01\n",
      "   2.14683582e+02  3.04040299e+00]\n",
      " ...\n",
      " [ 1.59660367e+00 -1.63410743e-01 -2.24066282e-01 ... -8.65847414e-01\n",
      "   0.00000000e+00 -5.57375204e-01]\n",
      " [ 2.99405717e-01 -1.12391664e+00 -2.15126335e-01 ...  6.89095114e-01\n",
      "  -8.52341766e-01  2.15305859e+00]\n",
      " [ 1.64741191e+00  7.27240177e-01 -2.18106317e-01 ... -9.16006850e-01\n",
      "  -4.26170883e-01  4.75171004e-01]]\n"
     ]
    }
   ],
   "source": [
    "sc = StandardScaler()\n",
    "X_train= sc.fit_transform(X_train) \n",
    "X_test = sc.transform(X_test) \n",
    "print(X_train)\n",
    "print(X_test)"
   ]
  },
  {
   "cell_type": "code",
   "execution_count": 15,
   "id": "59f031df",
   "metadata": {},
   "outputs": [],
   "source": [
    "X_train1=X_train.copy()\n",
    "X_test1=X_test.copy()"
   ]
  },
  {
   "cell_type": "code",
   "execution_count": 16,
   "id": "32a9f463",
   "metadata": {},
   "outputs": [],
   "source": [
    "log_reg=LogisticRegression(random_state=0,max_iter=900)"
   ]
  },
  {
   "cell_type": "code",
   "execution_count": 17,
   "id": "c6717f55",
   "metadata": {},
   "outputs": [
    {
     "data": {
      "text/plain": [
       "LogisticRegression(max_iter=900, random_state=0)"
      ]
     },
     "execution_count": 17,
     "metadata": {},
     "output_type": "execute_result"
    }
   ],
   "source": [
    "log_reg.fit(X_train1,y_train)"
   ]
  },
  {
   "cell_type": "code",
   "execution_count": 18,
   "id": "b9a90d25",
   "metadata": {},
   "outputs": [
    {
     "data": {
      "text/plain": [
       "0.9333333333333333"
      ]
     },
     "execution_count": 18,
     "metadata": {},
     "output_type": "execute_result"
    }
   ],
   "source": [
    "log_reg.score(X_test1,y_test)"
   ]
  },
  {
   "cell_type": "code",
   "execution_count": 19,
   "id": "553eb131",
   "metadata": {},
   "outputs": [],
   "source": [
    "y_pred = log_reg.predict(X_test1)"
   ]
  },
  {
   "cell_type": "code",
   "execution_count": 20,
   "id": "d8224c51",
   "metadata": {},
   "outputs": [
    {
     "name": "stdout",
     "output_type": "stream",
     "text": [
      "accuracy= 0.9333333333333333\n",
      "precision= 0.8571428571428571\n",
      "recall= 1.0\n",
      "F1 Score= 0.923076923076923\n"
     ]
    }
   ],
   "source": [
    "print('accuracy=', accuracy_score(y_test, y_pred))\n",
    "print('precision=', precision_score(y_test, y_pred))\n",
    "print('recall=', recall_score(y_test, y_pred))\n",
    "print('F1 Score=', f1_score(y_test, y_pred))"
   ]
  },
  {
   "cell_type": "code",
   "execution_count": 21,
   "id": "cfef69c9",
   "metadata": {},
   "outputs": [],
   "source": [
    "Comparacion['Modelo'].append(\"log_reg\")\n",
    "Comparacion['precisión'].append(accuracy_score(y_test, y_pred))\n",
    "Comparacion['exactitud'].append(precision_score(y_test, y_pred))\n",
    "Comparacion['exhaustividad'].append(recall_score(y_test, y_pred))\n",
    "Comparacion['F1'].append(f1_score(y_test, y_pred))"
   ]
  },
  {
   "cell_type": "markdown",
   "id": "4c2dbfb6",
   "metadata": {},
   "source": [
    "# K-Nearest Neighbors \n"
   ]
  },
  {
   "cell_type": "code",
   "execution_count": 22,
   "id": "a4d85736",
   "metadata": {},
   "outputs": [],
   "source": [
    "X_train2=X_train.copy()\n",
    "X_test2=X_test.copy()"
   ]
  },
  {
   "cell_type": "code",
   "execution_count": 23,
   "id": "5830f403",
   "metadata": {},
   "outputs": [
    {
     "data": {
      "text/plain": [
       "0.8"
      ]
     },
     "execution_count": 23,
     "metadata": {},
     "output_type": "execute_result"
    }
   ],
   "source": [
    "knn = KNeighborsClassifier(n_neighbors = 2).fit(X_train2,y_train)\n",
    "knn.score(X_test2,y_test)"
   ]
  },
  {
   "cell_type": "code",
   "execution_count": 24,
   "id": "35eea3e3",
   "metadata": {},
   "outputs": [],
   "source": [
    "y_pred = knn.predict(X_test2)"
   ]
  },
  {
   "cell_type": "code",
   "execution_count": 25,
   "id": "3ea0acd8",
   "metadata": {},
   "outputs": [
    {
     "name": "stdout",
     "output_type": "stream",
     "text": [
      "accuracy= 0.8\n",
      "precision= 1.0\n",
      "recall= 0.5\n",
      "F1 Score= 0.6666666666666666\n"
     ]
    }
   ],
   "source": [
    "print('accuracy=', accuracy_score(y_test, y_pred))\n",
    "print('precision=', precision_score(y_test, y_pred))\n",
    "print('recall=', recall_score(y_test, y_pred))\n",
    "print('F1 Score=', f1_score(y_test, y_pred))"
   ]
  },
  {
   "cell_type": "code",
   "execution_count": 26,
   "id": "8cf4c3e4",
   "metadata": {},
   "outputs": [],
   "source": [
    "Comparacion['Modelo'].append(\"knn\")\n",
    "Comparacion['precisión'].append(accuracy_score(y_test, y_pred))\n",
    "Comparacion['exactitud'].append(precision_score(y_test, y_pred))\n",
    "Comparacion['exhaustividad'].append(recall_score(y_test, y_pred))\n",
    "Comparacion['F1'].append(f1_score(y_test, y_pred))"
   ]
  },
  {
   "cell_type": "markdown",
   "id": "1236dd26",
   "metadata": {},
   "source": [
    "# Decision Tree\n"
   ]
  },
  {
   "cell_type": "code",
   "execution_count": 27,
   "id": "0ae3387b",
   "metadata": {},
   "outputs": [],
   "source": [
    "X_train3=X_train.copy()\n",
    "X_test3=X_test.copy()"
   ]
  },
  {
   "cell_type": "code",
   "execution_count": 28,
   "id": "7d1ef862",
   "metadata": {},
   "outputs": [
    {
     "data": {
      "text/plain": [
       "0.8"
      ]
     },
     "execution_count": 28,
     "metadata": {},
     "output_type": "execute_result"
    }
   ],
   "source": [
    "tree = DecisionTreeClassifier(random_state = 0).fit(X_train3,y_train)\n",
    "tree.score(X_test3,y_test)"
   ]
  },
  {
   "cell_type": "code",
   "execution_count": 29,
   "id": "8f0aff49",
   "metadata": {},
   "outputs": [],
   "source": [
    "y_pred = tree.predict(X_test3)"
   ]
  },
  {
   "cell_type": "code",
   "execution_count": 30,
   "id": "3d942b21",
   "metadata": {},
   "outputs": [
    {
     "name": "stdout",
     "output_type": "stream",
     "text": [
      "accuracy= 0.8\n",
      "precision= 0.6666666666666666\n",
      "recall= 1.0\n",
      "F1 Score= 0.8\n"
     ]
    }
   ],
   "source": [
    "print('accuracy=', accuracy_score(y_test, y_pred))\n",
    "print('precision=', precision_score(y_test, y_pred))\n",
    "print('recall=', recall_score(y_test, y_pred))\n",
    "print('F1 Score=', f1_score(y_test, y_pred))"
   ]
  },
  {
   "cell_type": "code",
   "execution_count": 31,
   "id": "910bbe30",
   "metadata": {},
   "outputs": [],
   "source": [
    "Comparacion['Modelo'].append(\"tree\")\n",
    "Comparacion['precisión'].append(accuracy_score(y_test, y_pred))\n",
    "Comparacion['exactitud'].append(precision_score(y_test, y_pred))\n",
    "Comparacion['exhaustividad'].append(recall_score(y_test, y_pred))\n",
    "Comparacion['F1'].append(f1_score(y_test, y_pred))"
   ]
  },
  {
   "cell_type": "markdown",
   "id": "41ae8c0d",
   "metadata": {},
   "source": [
    "# Random Forest"
   ]
  },
  {
   "cell_type": "code",
   "execution_count": 32,
   "id": "28e4b8e3",
   "metadata": {},
   "outputs": [],
   "source": [
    "X_train4=X_train.copy()\n",
    "X_test4=X_test.copy()"
   ]
  },
  {
   "cell_type": "code",
   "execution_count": 33,
   "id": "f785421d",
   "metadata": {},
   "outputs": [
    {
     "data": {
      "text/plain": [
       "0.9333333333333333"
      ]
     },
     "execution_count": 33,
     "metadata": {},
     "output_type": "execute_result"
    }
   ],
   "source": [
    "rf = RandomForestClassifier(random_state = 0).fit(X_train4,y_train)\n",
    "rf.score(X_test4,y_test)"
   ]
  },
  {
   "cell_type": "code",
   "execution_count": 34,
   "id": "9c35459e",
   "metadata": {},
   "outputs": [],
   "source": [
    "y_pred = rf.predict(X_test4)"
   ]
  },
  {
   "cell_type": "code",
   "execution_count": 35,
   "id": "e6ee41da",
   "metadata": {},
   "outputs": [
    {
     "name": "stdout",
     "output_type": "stream",
     "text": [
      "accuracy= 0.9333333333333333\n",
      "precision= 0.8571428571428571\n",
      "recall= 1.0\n",
      "F1 Score= 0.923076923076923\n"
     ]
    }
   ],
   "source": [
    "print('accuracy=', accuracy_score(y_test, y_pred))\n",
    "print('precision=', precision_score(y_test, y_pred))\n",
    "print('recall=', recall_score(y_test, y_pred))\n",
    "print('F1 Score=', f1_score(y_test, y_pred))"
   ]
  },
  {
   "cell_type": "code",
   "execution_count": 36,
   "id": "049261dc",
   "metadata": {},
   "outputs": [],
   "source": [
    "Comparacion['Modelo'].append(\"rf\")\n",
    "Comparacion['precisión'].append(accuracy_score(y_test, y_pred))\n",
    "Comparacion['exactitud'].append(precision_score(y_test, y_pred))\n",
    "Comparacion['exhaustividad'].append(recall_score(y_test, y_pred))\n",
    "Comparacion['F1'].append(f1_score(y_test, y_pred))"
   ]
  },
  {
   "cell_type": "markdown",
   "id": "b485d897",
   "metadata": {},
   "source": [
    "# Naive bayes"
   ]
  },
  {
   "cell_type": "code",
   "execution_count": 37,
   "id": "ce4a7dc7",
   "metadata": {},
   "outputs": [],
   "source": [
    "X_train5=X_train.copy()\n",
    "X_test5=X_test.copy()"
   ]
  },
  {
   "cell_type": "code",
   "execution_count": 38,
   "id": "c7af7e17",
   "metadata": {},
   "outputs": [
    {
     "data": {
      "text/plain": [
       "0.9333333333333333"
      ]
     },
     "execution_count": 38,
     "metadata": {},
     "output_type": "execute_result"
    }
   ],
   "source": [
    "nb= GaussianNB()\n",
    "nb.fit(X_train5,y_train)\n",
    "nb.score(X_test5,y_test)"
   ]
  },
  {
   "cell_type": "code",
   "execution_count": 39,
   "id": "6c4e7526",
   "metadata": {},
   "outputs": [],
   "source": [
    "y_pred = nb.predict(X_test5)"
   ]
  },
  {
   "cell_type": "code",
   "execution_count": 40,
   "id": "5171cd49",
   "metadata": {},
   "outputs": [
    {
     "name": "stdout",
     "output_type": "stream",
     "text": [
      "accuracy= 0.9333333333333333\n",
      "precision= 0.8571428571428571\n",
      "recall= 1.0\n",
      "F1 Score= 0.923076923076923\n"
     ]
    }
   ],
   "source": [
    "print('accuracy=', accuracy_score(y_test, y_pred))\n",
    "print('precision=', precision_score(y_test, y_pred))\n",
    "print('recall=', recall_score(y_test, y_pred))\n",
    "print('F1 Score=', f1_score(y_test, y_pred))"
   ]
  },
  {
   "cell_type": "code",
   "execution_count": 41,
   "id": "68bb30a8",
   "metadata": {},
   "outputs": [],
   "source": [
    "Comparacion['Modelo'].append(\"nb\")\n",
    "Comparacion['precisión'].append(accuracy_score(y_test, y_pred))\n",
    "Comparacion['exactitud'].append(precision_score(y_test, y_pred))\n",
    "Comparacion['exhaustividad'].append(recall_score(y_test, y_pred))\n",
    "Comparacion['F1'].append(f1_score(y_test, y_pred))"
   ]
  },
  {
   "cell_type": "markdown",
   "id": "9e8be4bd",
   "metadata": {},
   "source": [
    "# Bagging"
   ]
  },
  {
   "cell_type": "code",
   "execution_count": 42,
   "id": "fd19a3a6",
   "metadata": {},
   "outputs": [],
   "source": [
    "X_train6=X_train.copy()\n",
    "X_test6=X_test.copy()"
   ]
  },
  {
   "cell_type": "code",
   "execution_count": 43,
   "id": "f6b5528c",
   "metadata": {},
   "outputs": [
    {
     "data": {
      "text/plain": [
       "0.9333333333333333"
      ]
     },
     "execution_count": 43,
     "metadata": {},
     "output_type": "execute_result"
    }
   ],
   "source": [
    "bag = BaggingClassifier(random_state = 0).fit(X_train6,y_train)\n",
    "bag.score(X_test6,y_test)"
   ]
  },
  {
   "cell_type": "code",
   "execution_count": 44,
   "id": "990ec3fb",
   "metadata": {},
   "outputs": [],
   "source": [
    "y_pred = bag.predict(X_test6)"
   ]
  },
  {
   "cell_type": "code",
   "execution_count": 45,
   "id": "e7c4779b",
   "metadata": {},
   "outputs": [
    {
     "name": "stdout",
     "output_type": "stream",
     "text": [
      "accuracy= 0.9333333333333333\n",
      "precision= 0.8571428571428571\n",
      "recall= 1.0\n",
      "F1 Score= 0.923076923076923\n"
     ]
    }
   ],
   "source": [
    "print('accuracy=', accuracy_score(y_test, y_pred))\n",
    "print('precision=', precision_score(y_test, y_pred))\n",
    "print('recall=', recall_score(y_test, y_pred))\n",
    "print('F1 Score=', f1_score(y_test, y_pred))"
   ]
  },
  {
   "cell_type": "code",
   "execution_count": 46,
   "id": "97672dc5",
   "metadata": {},
   "outputs": [],
   "source": [
    "Comparacion['Modelo'].append(\"bag\")\n",
    "Comparacion['precisión'].append(accuracy_score(y_test, y_pred))\n",
    "Comparacion['exactitud'].append(precision_score(y_test, y_pred))\n",
    "Comparacion['exhaustividad'].append(recall_score(y_test, y_pred))\n",
    "Comparacion['F1'].append(f1_score(y_test, y_pred))"
   ]
  },
  {
   "cell_type": "markdown",
   "id": "ca1daa78",
   "metadata": {},
   "source": [
    "# Comparación"
   ]
  },
  {
   "cell_type": "code",
   "execution_count": 47,
   "id": "045a4b45",
   "metadata": {},
   "outputs": [
    {
     "name": "stdout",
     "output_type": "stream",
     "text": [
      "Score :  0.9333333333333333\n"
     ]
    },
    {
     "data": {
      "image/png": "[encoded data removed]",
      "text/plain": [
       "<Figure size 432x288 with 2 Axes>"
      ]
     },
     "metadata": {
      "needs_background": "light"
     },
     "output_type": "display_data"
    },
    {
     "name": "stdout",
     "output_type": "stream",
     "text": [
      "Score :  0.8\n"
     ]
    },
    {
     "data": {
      "image/png": "[encoded data removed]",
      "text/plain": [
       "<Figure size 432x288 with 2 Axes>"
      ]
     },
     "metadata": {
      "needs_background": "light"
     },
     "output_type": "display_data"
    },
    {
     "name": "stdout",
     "output_type": "stream",
     "text": [
      "Score :  0.9333333333333333\n"
     ]
    },
    {
     "data": {
      "image/png": "[encoded data removed]",
      "text/plain": [
       "<Figure size 432x288 with 2 Axes>"
      ]
     },
     "metadata": {
      "needs_background": "light"
     },
     "output_type": "display_data"
    },
    {
     "name": "stdout",
     "output_type": "stream",
     "text": [
      "Score :  0.8\n"
     ]
    },
    {
     "data": {
      "image/png": "[encoded data removed]",
      "text/plain": [
       "<Figure size 432x288 with 2 Axes>"
      ]
     },
     "metadata": {
      "needs_background": "light"
     },
     "output_type": "display_data"
    },
    {
     "name": "stdout",
     "output_type": "stream",
     "text": [
      "Score :  0.9333333333333333\n"
     ]
    },
    {
     "data": {
      "image/png": "[encoded data removed]",
      "text/plain": [
       "<Figure size 432x288 with 2 Axes>"
      ]
     },
     "metadata": {
      "needs_background": "light"
     },
     "output_type": "display_data"
    },
    {
     "name": "stdout",
     "output_type": "stream",
     "text": [
      "Score :  0.9333333333333333\n"
     ]
    },
    {
     "data": {
      "image/png": "[encoded data removed]",
      "text/plain": [
       "<Figure size 432x288 with 2 Axes>"
      ]
     },
     "metadata": {
      "needs_background": "light"
     },
     "output_type": "display_data"
    }
   ],
   "source": [
    "pred_list = [log_reg,knn,rf,tree,nb,bag]\n",
    "\n",
    "for i in pred_list:\n",
    "    print(\"Score : \",i.score(X_test,y_test))\n",
    "    y_pred = i.predict(X_test)\n",
    "    sns.heatmap(confusion_matrix(y_test,y_pred),annot = True,cmap='Blues')\n",
    "    plt.xlabel(\"Y_pred\")\n",
    "    plt.ylabel(\"Y_test\")\n",
    "    plt.title(i)\n",
    "    plt.show()"
   ]
  },
  {
   "cell_type": "code",
   "execution_count": 48,
   "id": "4e6a521b",
   "metadata": {},
   "outputs": [
    {
     "data": {
      "text/html": [
       "<div>\n",
       "<style scoped>\n",
       "    .dataframe tbody tr th:only-of-type {\n",
       "        vertical-align: middle;\n",
       "    }\n",
       "\n",
       "    .dataframe tbody tr th {\n",
       "        vertical-align: top;\n",
       "    }\n",
       "\n",
       "    .dataframe thead th {\n",
       "        text-align: right;\n",
       "    }\n",
       "</style>\n",
       "<table border=\"1\" class=\"dataframe\">\n",
       "  <thead>\n",
       "    <tr style=\"text-align: right;\">\n",
       "      <th></th>\n",
       "      <th>Modelo</th>\n",
       "      <th>precisión</th>\n",
       "      <th>exactitud</th>\n",
       "      <th>exhaustividad</th>\n",
       "      <th>F1</th>\n",
       "    </tr>\n",
       "  </thead>\n",
       "  <tbody>\n",
       "    <tr>\n",
       "      <th>0</th>\n",
       "      <td>log_reg</td>\n",
       "      <td>0.933333</td>\n",
       "      <td>0.857143</td>\n",
       "      <td>1.0</td>\n",
       "      <td>0.923077</td>\n",
       "    </tr>\n",
       "    <tr>\n",
       "      <th>1</th>\n",
       "      <td>knn</td>\n",
       "      <td>0.800000</td>\n",
       "      <td>1.000000</td>\n",
       "      <td>0.5</td>\n",
       "      <td>0.666667</td>\n",
       "    </tr>\n",
       "    <tr>\n",
       "      <th>2</th>\n",
       "      <td>tree</td>\n",
       "      <td>0.800000</td>\n",
       "      <td>0.666667</td>\n",
       "      <td>1.0</td>\n",
       "      <td>0.800000</td>\n",
       "    </tr>\n",
       "    <tr>\n",
       "      <th>3</th>\n",
       "      <td>rf</td>\n",
       "      <td>0.933333</td>\n",
       "      <td>0.857143</td>\n",
       "      <td>1.0</td>\n",
       "      <td>0.923077</td>\n",
       "    </tr>\n",
       "    <tr>\n",
       "      <th>4</th>\n",
       "      <td>nb</td>\n",
       "      <td>0.933333</td>\n",
       "      <td>0.857143</td>\n",
       "      <td>1.0</td>\n",
       "      <td>0.923077</td>\n",
       "    </tr>\n",
       "    <tr>\n",
       "      <th>5</th>\n",
       "      <td>bag</td>\n",
       "      <td>0.933333</td>\n",
       "      <td>0.857143</td>\n",
       "      <td>1.0</td>\n",
       "      <td>0.923077</td>\n",
       "    </tr>\n",
       "  </tbody>\n",
       "</table>\n",
       "</div>"
      ],
      "text/plain": [
       "    Modelo  precisión  exactitud  exhaustividad        F1\n",
       "0  log_reg   0.933333   0.857143            1.0  0.923077\n",
       "1      knn   0.800000   1.000000            0.5  0.666667\n",
       "2     tree   0.800000   0.666667            1.0  0.800000\n",
       "3       rf   0.933333   0.857143            1.0  0.923077\n",
       "4       nb   0.933333   0.857143            1.0  0.923077\n",
       "5      bag   0.933333   0.857143            1.0  0.923077"
      ]
     },
     "execution_count": 48,
     "metadata": {},
     "output_type": "execute_result"
    }
   ],
   "source": [
    "comparación= pd.DataFrame.from_dict(Comparacion)\n",
    "comparación"
   ]
  },
  {
   "cell_type": "markdown",
   "id": "37a781ae",
   "metadata": {},
   "source": [
    "Podemos observar que lo más probable es que estos datos ya hubieran sido tratados con anterioridad, puesto que tiene un ajuste demasiado exacto a los modelos, puesto que dependiendo el random_state que escojamos nos puede dar un modelo perfecto, de ahí que no se escoja uno determinado y que sea aleatorio cada vez, para ver los cambios en las métricas de rendimiento con los distintos modelos de clasificación."
   ]
  }
 ],
 "metadata": {
  "kernelspec": {
   "display_name": "Python 3 (ipykernel)",
   "language": "python",
   "name": "python3"
  },
  "language_info": {
   "codemirror_mode": {
    "name": "ipython",
    "version": 3
   },
   "file_extension": ".py",
   "mimetype": "text/x-python",
   "name": "python",
   "nbconvert_exporter": "python",
   "pygments_lexer": "ipython3",
   "version": "3.9.5"
  }
 },
 "nbformat": 4,
 "nbformat_minor": 5
}
